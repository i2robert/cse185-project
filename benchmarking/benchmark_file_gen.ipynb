{
 "cells": [
  {
   "cell_type": "code",
   "execution_count": 2,
   "metadata": {},
   "outputs": [],
   "source": [
    "#Generate files of different sizes to benchmark on\n",
    "from random import randint\n",
    "\n",
    "OUTPUT_FILE = \"benchmark100reads.fq\"\n",
    "\n",
    "nucs = ['A', 'C', 'G', 'T']\n",
    "\n",
    "num_reads = 100\n",
    "len_reads = 50\n",
    "\n",
    "def GetQuality(score: int) -> str:\n",
    "    quality_char = chr(score + 33)\n",
    "    return quality_char\n",
    "\n",
    "def GenerateSequenceAndScore(len_read):\n",
    "    seq = \"\"\n",
    "    qual = \"\"\n",
    "    for i in range(len_reads):\n",
    "        nuc = nucs[randint(0,3)]\n",
    "        seq += nuc\n",
    "\n",
    "        qual_score = randint(25 - int(i * 20/len_reads), 45 - int(i * 20/len_reads))\n",
    "        qual += GetQuality(qual_score)\n",
    "\n",
    "    return seq, qual\n",
    "\n",
    "f = open(OUTPUT_FILE, 'w')\n",
    "for i in range(num_reads):\n",
    "    seq, qual = GenerateSequenceAndScore(len_reads)\n",
    "\n",
    "    header = f'@Benchmarking read number {i+1}/{num_reads}'\n",
    "    f.write(f'{header}\\n{seq}\\n+\\n{qual}\\n')\n",
    "\n",
    "f.close()\n"
   ]
  }
 ],
 "metadata": {
  "kernelspec": {
   "display_name": "Python 3",
   "language": "python",
   "name": "python3"
  },
  "language_info": {
   "codemirror_mode": {
    "name": "ipython",
    "version": 3
   },
   "file_extension": ".py",
   "mimetype": "text/x-python",
   "name": "python",
   "nbconvert_exporter": "python",
   "pygments_lexer": "ipython3",
   "version": "3.10.7"
  },
  "orig_nbformat": 4
 },
 "nbformat": 4,
 "nbformat_minor": 2
}
